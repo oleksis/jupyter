{
 "cells": [
  {
   "cell_type": "markdown",
   "metadata": {},
   "source": [
    "# Threading vs Multiprocessing in Jupyter\n",
    "> \"Medir el tiempo de ejecución usando Threads y Multiprocess\"\n",
    "- toc: false\n",
    "- branch: master\n",
    "- badges: true\n",
    "- comments: true\n",
    "- categories: [python, jupyter, threading, multiprocessing, concurrent, timeit, carnets]\n"
   ]
  },
  {
   "cell_type": "markdown",
   "metadata": {},
   "source": [
    "El uso de la programación concurrente en Python es interesante y sorprendente. Experimentando con [Carnets](https://holzschu.github.io/Carnets_Jupyter/) y [Google Colaboratory](http://colab.research.google.com/) he llegado a la conclusión que su uso se justifica según el problema a resolver. \n",
    "\n",
    "En Carnet el [uso de multiprocessing](https://github.com/holzschu/Carnets/issues/83) no esta soportado hasta ahora. Su creador [Nicolas Holzschuch](https://github.com/holzschu) comenta lo siguiente:\n",
    "\n",
    ">The short answer is: \"you can't use multiprocessing with Carnets\". I'm sorry about that, but it is really too difficult to support.\n",
    ">\n",
    ">The long answer is: multiprocessing in Python relies on multiple calls to fork(), with a pool of process and a queue for tasks to be executed. iOS does not have the fork() system call, so there is no way to make this work, and I don't think there is one.\n",
    ">\n",
    ">Since most iPads have only 4 cores anyway (and some cores are already used by the system and the Jupyter server), I am not certain we would gain much processing power anyway.\n",
    "\n",
    "En las siguientes celdas puedes observar y experimentar como se comporta el tiempo de ejecución en Jupyter usando Threading y Multiprocessing\n"
   ]
  },
  {
   "cell_type": "code",
   "execution_count": null,
   "metadata": {
    "colab": {
     "base_uri": "https://localhost:8080/",
     "height": 35
    },
    "colab_type": "code",
    "executionInfo": {
     "elapsed": 896,
     "status": "ok",
     "timestamp": 1583295159639,
     "user": {
      "displayName": "",
      "photoUrl": "",
      "userId": ""
     },
     "user_tz": 300
    },
    "id": "kohh5zhEvpF_",
    "outputId": "8fc681fb-17c6-4e3c-e3fa-e574819680a7"
   },
   "outputs": [],
   "source": [
    "%%writefile fibonacci.py\n",
    "def fibonacci(n):\n",
    "    if n < 2:\n",
    "        return n\n",
    "    return fibonacci(n - 1) + fibonacci(n - 2)\n"
   ]
  },
  {
   "cell_type": "code",
   "execution_count": null,
   "metadata": {
    "colab": {
     "base_uri": "https://localhost:8080/",
     "height": 71
    },
    "colab_type": "code",
    "executionInfo": {
     "elapsed": 7387,
     "status": "ok",
     "timestamp": 1583295166154,
     "user": {
      "displayName": "",
      "photoUrl": "",
      "userId": ""
     },
     "user_tz": 300
    },
    "id": "y1N6qOaUvpG8",
    "outputId": "a2a8c3ff-335d-4744-932e-22a00115cc13",
    "scrolled": true
   },
   "outputs": [],
   "source": [
    "from concurrent.futures import ThreadPoolExecutor\n",
    "from fibonacci import fibonacci\n",
    "\n",
    "def fibs(n):\n",
    "    \"\"\"Fibonacci sequentially\"\"\"\n",
    "    for i in range(1, n + 1):\n",
    "        _ = fibonacci(i)\n",
    "\n",
    "def fibs_thread(n):\n",
    "    \"\"\"Fibonacci with Threads\"\"\"\n",
    "    with ThreadPoolExecutor(max_workers=4) as exct:\n",
    "        exct.map(fibonacci, range(1, n + 1))\n",
    "\n",
    "if __name__ == \"__main__\":\n",
    "    N=30\n",
    "    %timeit fibs(N)\n",
    "    print()\n",
    "    %timeit fibs_thread(N)\n"
   ]
  },
  {
   "cell_type": "code",
   "execution_count": null,
   "metadata": {},
   "outputs": [],
   "source": [
    "from multiprocessing import Pool, cpu_count\n",
    "from fibonacci import fibonacci\n",
    "\n",
    "def fibs_multiprocess(n):\n",
    "    \"\"\"Fibonacci with CPU Multiprocess\"\"\"\n",
    "    with Pool(processes=cpu_count()) as cpu_pool:\n",
    "        cpu_pool.map(fibonacci, range(1, n + 1))\n",
    "\n",
    "if __name__ == \"__main__\":\n",
    "    N=30\n",
    "    %timeit fibs_multiprocess(N)\n"
   ]
  },
  {
   "cell_type": "markdown",
   "metadata": {},
   "source": [
    "## Referencias\n",
    "* [Multiprocessing in Python on Windows and Jupyter/Ipython — Making it work](https://medium.com/@grvsinghal/speed-up-your-python-code-using-multiprocessing-on-windows-and-jupyter-or-ipython-2714b49d6fac)\n",
    "* [Speed up your code using multiprocessing in python](https://medium.com/@grvsinghal/speed-up-your-code-using-multiprocessing-in-python-36e4e703213e)\n",
    "* [Python Multiprocessing Example](https://www.journaldev.com/15631/python-multiprocessing-example)\n",
    "* [Process-based parallelism](https://docs.python.org/3.7/library/multiprocessing.html)"
   ]
  }
 ],
 "metadata": {
  "colab": {
   "name": "pool_threads_fib.ipynb",
   "provenance": [
    {
     "file_id": "https://github.com/oleksis/notebooks/blob/master/pool_threads_fib.ipynb",
     "timestamp": 1583295204210
    }
   ]
  },
  "kernelspec": {
   "display_name": "Python 3",
   "language": "python",
   "name": "python3"
  },
  "language_info": {
   "codemirror_mode": {
    "name": "ipython",
    "version": 3
   },
   "file_extension": ".py",
   "mimetype": "text/x-python",
   "name": "python",
   "nbconvert_exporter": "python",
   "pygments_lexer": "ipython3",
   "version": "3.7.1"
  }
 },
 "nbformat": 4,
 "nbformat_minor": 1
}
