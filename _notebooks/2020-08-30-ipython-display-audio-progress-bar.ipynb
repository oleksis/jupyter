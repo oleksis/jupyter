{
 "cells": [
  {
   "cell_type": "markdown",
   "metadata": {},
   "source": [
    "# IPython display Audio and ProgressBar\n",
    "> \"Ejecutar el sonido de un audio y visualizar una barra de progreso durante el procesamiento de elementos\"\n",
    "- toc: false\n",
    "- branch: master\n",
    "- badges: true\n",
    "- comments: true\n",
    "- categories: [ipython, audio, progressbar, jupyter]\n"
   ]
  },
  {
   "cell_type": "code",
   "execution_count": null,
   "metadata": {},
   "outputs": [],
   "source": [
    "from IPython.display import Audio, ProgressBar\n",
    "from urllib.request import urlopen\n",
    "\n",
    "sound_file=('https://raw.githubusercontent.com/oleksis/'\n",
    "            'jupyter/master/assets/sounds/complete.wav')\n",
    "sound_local = 'temp_sound.wav'\n",
    "#Save Sound local\n",
    "with urlopen(sound_file) as f_in, open(sound_local, 'wb') as f_out:\n",
    "    f_out.write(f_in.read())\n",
    "\n",
    "pb = ProgressBar(1000)\n",
    "\n",
    "for i, _ in enumerate(pb, 1):\n",
    "    print(\"\\r\",\n",
    "          \"Processing %d element%s\" % (i, \"s\" if i > 1 else \"\" ),\n",
    "          sep=\"\",\n",
    "          end=\"\",\n",
    "          flush=True)\n",
    "\n",
    "Audio(sound_local, autoplay=True)"
   ]
  }
 ],
 "metadata": {
  "kernelspec": {
   "display_name": "Python 3",
   "language": "python",
   "name": "python3"
  },
  "language_info": {
   "codemirror_mode": {
    "name": "ipython",
    "version": 3
   },
   "file_extension": ".py",
   "mimetype": "text/x-python",
   "name": "python",
   "nbconvert_exporter": "python",
   "pygments_lexer": "ipython3",
   "version": "3.8.3"
  }
 },
 "nbformat": 4,
 "nbformat_minor": 2
}
